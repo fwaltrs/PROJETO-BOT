{
 "cells": [
  {
   "cell_type": "code",
   "execution_count": 1,
   "id": "948cb4c2",
   "metadata": {},
   "outputs": [],
   "source": [
    "import pyautogui\n",
    "import time\n",
    "import pandas as pd\n",
    "pyautogui.PAUSE = 0.3"
   ]
  },
  {
   "cell_type": "code",
   "execution_count": null,
   "id": "ba6b588a",
   "metadata": {},
   "outputs": [],
   "source": [
    "pyautogui.PAUSE = 0.3\n",
    "\n",
    "# abrir o navegador (chrome)\n",
    "pyautogui.press(\"win\")\n",
    "pyautogui.write(\"Microsoft Edge\")\n",
    "pyautogui.press(\"enter\")\n",
    "\n",
    "# entrar no link \n",
    "pyautogui.write(\"https://dlp.hashtagtreinamentos.com/python/intensivao/login\")\n",
    "pyautogui.press(\"enter\")\n",
    "time.sleep(3)\n",
    "\n",
    "# Passo 2: Fazer login\n",
    "# selecionar o campo de email\n",
    "pyautogui.click(x=914, y=589)\n",
    "# escrever o seu email\n",
    "pyautogui.write(\"pythonimpressionador@gmail.com\")\n",
    "pyautogui.press(\"tab\") # passando pro próximo campo\n",
    "pyautogui.write(\"sua senha\")\n",
    "pyautogui.click(x=933, y=820) # clique no botao de login\n",
    "time.sleep(3)\n",
    "\n",
    "# Passo 3: Importar a base de produtos pra cadastrar\n",
    "\n",
    "tabela = pd.read_csv(\"C:/Users/ferna/Dropbox/PC/Downloads/produtos.csv\")\n",
    "\n",
    "# Passo 4: Cadastrar um produto\n",
    "for linha in tabela.index:\n",
    "    # clicar no campo de código\n",
    "    pyautogui.click(x=676, y=416)\n",
    "    # pegar da tabela o valor do campo que a gente quer preencher\n",
    "    codigo = tabela.loc[linha, \"codigo\"]\n",
    "    # preencher o campo\n",
    "    pyautogui.write(str(codigo))\n",
    "    # passar para o proximo campo\n",
    "    pyautogui.press(\"tab\")\n",
    "    # preencher o campo\n",
    "    pyautogui.write(str(tabela.loc[linha, \"marca\"]))\n",
    "    pyautogui.press(\"tab\")\n",
    "    pyautogui.write(str(tabela.loc[linha, \"tipo\"]))\n",
    "    pyautogui.press(\"tab\")\n",
    "    pyautogui.write(str(tabela.loc[linha, \"categoria\"]))\n",
    "    pyautogui.press(\"tab\")\n",
    "    pyautogui.write(str(tabela.loc[linha, \"preco_unitario\"]))\n",
    "    pyautogui.press(\"tab\")\n",
    "    pyautogui.write(str(tabela.loc[linha, \"custo\"]))\n",
    "    pyautogui.press(\"tab\")\n",
    "    obs = tabela.loc[linha, \"obs\"]\n",
    "    if not pd.isna(obs):\n",
    "        pyautogui.write(str(tabela.loc[linha, \"obs\"]))\n",
    "    pyautogui.press(\"tab\")\n",
    "    pyautogui.press(\"enter\") # cadastra o produto (botao enviar)\n",
    "    # dar scroll de tudo pra cima\n",
    "    pyautogui.scroll(5000)\n",
    "    # Passo 5: Repetir o processo de cadastro até o fim\n",
    "\n"
   ]
  },
  {
   "cell_type": "code",
   "execution_count": 7,
   "id": "a6172dde",
   "metadata": {},
   "outputs": [
    {
     "name": "stdout",
     "output_type": "stream",
     "text": [
      "Point(x=933, y=820)\n"
     ]
    }
   ],
   "source": [
    "# verificar a posição no mouse\n",
    "import pyautogui\n",
    "time.sleep(5)\n",
    "print(pyautogui.position())"
   ]
  },
  {
   "cell_type": "code",
   "execution_count": null,
   "id": "5f017e7c",
   "metadata": {},
   "outputs": [],
   "source": []
  },
  {
   "cell_type": "code",
   "execution_count": null,
   "id": "9131c4f1",
   "metadata": {},
   "outputs": [],
   "source": []
  },
  {
   "cell_type": "code",
   "execution_count": null,
   "id": "01172dbc",
   "metadata": {},
   "outputs": [],
   "source": []
  }
 ],
 "metadata": {
  "kernelspec": {
   "display_name": "Python 3 (ipykernel)",
   "language": "python",
   "name": "python3"
  },
  "language_info": {
   "codemirror_mode": {
    "name": "ipython",
    "version": 3
   },
   "file_extension": ".py",
   "mimetype": "text/x-python",
   "name": "python",
   "nbconvert_exporter": "python",
   "pygments_lexer": "ipython3",
   "version": "3.9.12"
  }
 },
 "nbformat": 4,
 "nbformat_minor": 5
}
